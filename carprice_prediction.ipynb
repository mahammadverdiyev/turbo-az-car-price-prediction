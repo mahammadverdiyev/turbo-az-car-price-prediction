{
 "cells": [
  {
   "cell_type": "code",
   "execution_count": 65,
   "metadata": {
    "collapsed": true,
    "pycharm": {
     "name": "#%%\n"
    }
   },
   "outputs": [],
   "source": [
    "import numpy as np\n",
    "import pandas as pd\n",
    "import pymysql as ms\n",
    "import sklearn.preprocessing as sp\n",
    "from sklearn.preprocessing import RobustScaler\n",
    "from sklearn.ensemble import RandomForestRegressor\n",
    "\n",
    "import sklearn.metrics as met\n",
    "\n",
    "from sklearn.model_selection import train_test_split\n",
    "from sklearn.base import BaseEstimator, TransformerMixin\n",
    "from sklearn.pipeline import Pipeline"
   ]
  },
  {
   "cell_type": "code",
   "execution_count": 71,
   "outputs": [],
   "source": [
    "data = pd.read_csv('turbo_az_data.csv')"
   ],
   "metadata": {
    "collapsed": false,
    "pycharm": {
     "name": "#%%\n"
    }
   }
  },
  {
   "cell_type": "code",
   "execution_count": 72,
   "outputs": [],
   "source": [
    "data['qiymet_azn'] = np.select(\n",
    "    condlist=[\n",
    "        data.qiymet_valyuta == '$', data.qiymet_valyuta == 'AZN', data.qiymet_valyuta == '€'],\n",
    "    choicelist=[\n",
    "        data.qiymet * 1.7, data.qiymet, data.qiymet * 2.1],\n",
    "    default=data.qiymet)\n",
    "\n",
    "columns_drop = ['tel1', 'tel2', 'tel3', 'tel4', 'tel5', 'tel6', 'sheher', 'elan_tarix', 'elan_id', 'satici',\n",
    "                'date',\n",
    "                'id', 'avtosalon',\n",
    "                'baxis_sayi',\n",
    "                'kredit', 'barter', 'info', 'satilib', 'elan_tarix_title']\n"
   ],
   "metadata": {
    "collapsed": false,
    "pycharm": {
     "name": "#%%\n"
    }
   }
  },
  {
   "cell_type": "code",
   "execution_count": 106,
   "outputs": [
    {
     "data": {
      "text/plain": "   Unnamed: 0  id                 date avtosalon  salon_yn       marka  \\\n0           0   1  2018-03-08 22:12:54      none         0    Mercedes   \n1           1   2  2018-03-08 22:12:54      none         0  Mitsubishi   \n2           2   3  2018-03-08 22:12:54      none         0    Mercedes   \n3           3   4  2018-03-08 22:12:54      none         0  Volkswagen   \n4           4   5  2018-03-08 22:12:54      none         0     Hyundai   \n\n     model  shekil_sayi satilib  baxis_sayi  ... qapanma radar  kondisioner  \\\n0    C 200            9     yox         107  ...       1     0            1   \n1   Pajero            5     yox          78  ...       1     1            1   \n2    C 220            7     yox         118  ...       1     0            1   \n3  Touareg           10     yox        1639  ...       1     1            1   \n4   Sonata            8     yox         227  ...       1     1            1   \n\n  podoqrev  deri ksenon kamera perde ventilyasiya qiymet_azn  \n0        0     0      1      0     0            0     9750.0  \n1        0     0      0      1     0            0    13800.0  \n2        0     0      0      0     0            0     9900.0  \n3        1     1      1      1     1            1    32810.0  \n4        1     1      0      0     1            0    18700.0  \n\n[5 rows x 51 columns]",
      "text/html": "<div>\n<style scoped>\n    .dataframe tbody tr th:only-of-type {\n        vertical-align: middle;\n    }\n\n    .dataframe tbody tr th {\n        vertical-align: top;\n    }\n\n    .dataframe thead th {\n        text-align: right;\n    }\n</style>\n<table border=\"1\" class=\"dataframe\">\n  <thead>\n    <tr style=\"text-align: right;\">\n      <th></th>\n      <th>Unnamed: 0</th>\n      <th>id</th>\n      <th>date</th>\n      <th>avtosalon</th>\n      <th>salon_yn</th>\n      <th>marka</th>\n      <th>model</th>\n      <th>shekil_sayi</th>\n      <th>satilib</th>\n      <th>baxis_sayi</th>\n      <th>...</th>\n      <th>qapanma</th>\n      <th>radar</th>\n      <th>kondisioner</th>\n      <th>podoqrev</th>\n      <th>deri</th>\n      <th>ksenon</th>\n      <th>kamera</th>\n      <th>perde</th>\n      <th>ventilyasiya</th>\n      <th>qiymet_azn</th>\n    </tr>\n  </thead>\n  <tbody>\n    <tr>\n      <th>0</th>\n      <td>0</td>\n      <td>1</td>\n      <td>2018-03-08 22:12:54</td>\n      <td>none</td>\n      <td>0</td>\n      <td>Mercedes</td>\n      <td>C 200</td>\n      <td>9</td>\n      <td>yox</td>\n      <td>107</td>\n      <td>...</td>\n      <td>1</td>\n      <td>0</td>\n      <td>1</td>\n      <td>0</td>\n      <td>0</td>\n      <td>1</td>\n      <td>0</td>\n      <td>0</td>\n      <td>0</td>\n      <td>9750.0</td>\n    </tr>\n    <tr>\n      <th>1</th>\n      <td>1</td>\n      <td>2</td>\n      <td>2018-03-08 22:12:54</td>\n      <td>none</td>\n      <td>0</td>\n      <td>Mitsubishi</td>\n      <td>Pajero</td>\n      <td>5</td>\n      <td>yox</td>\n      <td>78</td>\n      <td>...</td>\n      <td>1</td>\n      <td>1</td>\n      <td>1</td>\n      <td>0</td>\n      <td>0</td>\n      <td>0</td>\n      <td>1</td>\n      <td>0</td>\n      <td>0</td>\n      <td>13800.0</td>\n    </tr>\n    <tr>\n      <th>2</th>\n      <td>2</td>\n      <td>3</td>\n      <td>2018-03-08 22:12:54</td>\n      <td>none</td>\n      <td>0</td>\n      <td>Mercedes</td>\n      <td>C 220</td>\n      <td>7</td>\n      <td>yox</td>\n      <td>118</td>\n      <td>...</td>\n      <td>1</td>\n      <td>0</td>\n      <td>1</td>\n      <td>0</td>\n      <td>0</td>\n      <td>0</td>\n      <td>0</td>\n      <td>0</td>\n      <td>0</td>\n      <td>9900.0</td>\n    </tr>\n    <tr>\n      <th>3</th>\n      <td>3</td>\n      <td>4</td>\n      <td>2018-03-08 22:12:54</td>\n      <td>none</td>\n      <td>0</td>\n      <td>Volkswagen</td>\n      <td>Touareg</td>\n      <td>10</td>\n      <td>yox</td>\n      <td>1639</td>\n      <td>...</td>\n      <td>1</td>\n      <td>1</td>\n      <td>1</td>\n      <td>1</td>\n      <td>1</td>\n      <td>1</td>\n      <td>1</td>\n      <td>1</td>\n      <td>1</td>\n      <td>32810.0</td>\n    </tr>\n    <tr>\n      <th>4</th>\n      <td>4</td>\n      <td>5</td>\n      <td>2018-03-08 22:12:54</td>\n      <td>none</td>\n      <td>0</td>\n      <td>Hyundai</td>\n      <td>Sonata</td>\n      <td>8</td>\n      <td>yox</td>\n      <td>227</td>\n      <td>...</td>\n      <td>1</td>\n      <td>1</td>\n      <td>1</td>\n      <td>1</td>\n      <td>1</td>\n      <td>0</td>\n      <td>0</td>\n      <td>1</td>\n      <td>0</td>\n      <td>18700.0</td>\n    </tr>\n  </tbody>\n</table>\n<p>5 rows × 51 columns</p>\n</div>"
     },
     "execution_count": 106,
     "metadata": {},
     "output_type": "execute_result"
    }
   ],
   "source": [
    "data.head()"
   ],
   "metadata": {
    "collapsed": false,
    "pycharm": {
     "name": "#%%\n"
    }
   }
  },
  {
   "cell_type": "code",
   "execution_count": 74,
   "outputs": [],
   "source": [
    "class CustomCleaner(BaseEstimator, TransformerMixin):\n",
    "    def fit(self, X, y=None):\n",
    "        return self\n",
    "\n",
    "    def transform(self, _X, y=None):\n",
    "        X = _X.copy(deep=True)\n",
    "        print(X.yurush.dtype)\n",
    "        X['yurush'] = X.yurush.str.strip('km').str.replace(' ', '').astype('float32')\n",
    "        X['muherrik_guc'] = X.muherrik_guc.str.strip(' a.g.').str.replace(' ', '').astype('float16')\n",
    "        X['car_age'] = 2018 - X.il\n",
    "        return X"
   ],
   "metadata": {
    "collapsed": false,
    "pycharm": {
     "name": "#%%\n"
    }
   }
  },
  {
   "cell_type": "code",
   "execution_count": 75,
   "outputs": [],
   "source": [
    "class CustomPreprocessor(BaseEstimator, TransformerMixin):\n",
    "    def fit(self, X, y=None):\n",
    "        return self\n",
    "\n",
    "    def transform(self, _X, y=None):\n",
    "        X = _X.copy(deep=True)\n",
    "        X[['qiymet_azn', 'yurush']] = X[['qiymet_azn', 'yurush']] / 1000\n",
    "        return X"
   ],
   "metadata": {
    "collapsed": false,
    "pycharm": {
     "name": "#%%\n"
    }
   }
  },
  {
   "cell_type": "code",
   "execution_count": 76,
   "outputs": [],
   "source": [
    "class CustomOneHotEncoder(BaseEstimator, TransformerMixin):\n",
    "    def __init__(self, feature_names):\n",
    "        self.feature_names = feature_names\n",
    "\n",
    "    def fit(self, X, y=None):\n",
    "        return self\n",
    "\n",
    "    def transform(self, _X, y=None):\n",
    "        X = _X.copy(deep=True)\n",
    "        for feature in self.feature_names:\n",
    "            cols = pd.get_dummies(X[feature], drop_first=True, prefix=f'{feature}').columns.values\n",
    "            X[cols] = pd.get_dummies(X[feature], drop_first=True, prefix=f'{feature}')\n",
    "            X = X.drop([feature], axis=1)\n",
    "        return X"
   ],
   "metadata": {
    "collapsed": false,
    "pycharm": {
     "name": "#%%\n"
    }
   }
  },
  {
   "cell_type": "code",
   "execution_count": 77,
   "outputs": [],
   "source": [
    "class FeatureSelector(BaseEstimator, TransformerMixin):\n",
    "    def __init__(self, feature_names):\n",
    "        self.feature_names = feature_names\n",
    "\n",
    "    def fit(self, X, y=None):\n",
    "        return self\n",
    "\n",
    "    def transform(self, X, y=None):\n",
    "        return X.loc[:, self.feature_names].copy(deep=True)"
   ],
   "metadata": {
    "collapsed": false,
    "pycharm": {
     "name": "#%%\n"
    }
   }
  },
  {
   "cell_type": "code",
   "execution_count": 78,
   "outputs": [],
   "source": [
    "class AverageCategoricalConverter(BaseEstimator, TransformerMixin):\n",
    "    def __init__(self, feature_names):\n",
    "        self.feature_names = feature_names\n",
    "\n",
    "    def fit(self, X, y=None):\n",
    "        return self\n",
    "\n",
    "    def transform(self, _X, y=None):\n",
    "        X = _X.copy(deep=True)\n",
    "        for feature in self.feature_names:\n",
    "            feature_avg = X[[feature, 'qiymet_azn']].groupby(by=feature).mean()\n",
    "            feature_avg.rename(columns={'qiymet_azn': f'{feature}_avg'}, inplace=True)\n",
    "            X = X.merge(feature_avg, how='left', left_on=feature, right_index=True).drop([feature], axis=1)\n",
    "        return X\n"
   ],
   "metadata": {
    "collapsed": false,
    "pycharm": {
     "name": "#%%\n"
    }
   }
  },
  {
   "cell_type": "code",
   "execution_count": 79,
   "outputs": [],
   "source": [
    "class PolynomialFeaturesGenerator(BaseEstimator, TransformerMixin):\n",
    "    def __init__(self, pol_features):\n",
    "        self.pol_features = pol_features\n",
    "\n",
    "    def fit(self, X, y=None):\n",
    "        return self\n",
    "\n",
    "    def transform(self, _X, y=None):\n",
    "        X = _X.copy(deep=True)\n",
    "\n",
    "        if self.pol_features is None:\n",
    "            pols = X\n",
    "            self.pol_features = pols.columns\n",
    "        else:\n",
    "            pols = X[self.pol_features]\n",
    "\n",
    "        poly = sp.PolynomialFeatures()\n",
    "\n",
    "        poly_df = pd.DataFrame(poly.fit_transform(pols), index=X.index)\n",
    "        poly_df = poly_df.iloc[:, len(self.pol_features) + 1:]\n",
    "        cols = []\n",
    "        for i in range(len(self.pol_features)):\n",
    "            for j in range(i, len(self.pol_features)):\n",
    "                cols.append(self.pol_features[i] + '_' + self.pol_features[j])\n",
    "        poly_df.columns = cols\n",
    "        X = X.join(poly_df, how='left')\n",
    "        return X"
   ],
   "metadata": {
    "collapsed": false,
    "pycharm": {
     "name": "#%%\n"
    }
   }
  },
  {
   "cell_type": "code",
   "execution_count": 80,
   "outputs": [],
   "source": [
    "class ColumnDropper():\n",
    "    def __init__(self, columns):\n",
    "        self.columns = columns\n",
    "\n",
    "    def transform(self, _X, y=None):\n",
    "        X = _X.copy(deep=True)\n",
    "        return X.drop(self.columns, axis=1)\n",
    "\n",
    "    def fit(self, X, y=None):\n",
    "        return self"
   ],
   "metadata": {
    "collapsed": false,
    "pycharm": {
     "name": "#%%\n"
    }
   }
  },
  {
   "cell_type": "code",
   "execution_count": 81,
   "outputs": [],
   "source": [
    "features = ['muherrik_hecm', 'muherrik_guc',\n",
    "            'yurush', 'car_age', 'marka_avg', 'yanacaq_avg', 'ban_novu_avg', 'reng_avg']\n",
    "target = 'qiymet_azn'"
   ],
   "metadata": {
    "collapsed": false,
    "pycharm": {
     "name": "#%%\n"
    }
   }
  },
  {
   "cell_type": "code",
   "execution_count": 82,
   "outputs": [],
   "source": [
    "train, test = train_test_split(data, test_size=0.25, random_state=5)"
   ],
   "metadata": {
    "collapsed": false,
    "pycharm": {
     "name": "#%%\n"
    }
   }
  },
  {
   "cell_type": "code",
   "execution_count": 108,
   "outputs": [
    {
     "data": {
      "text/plain": "((19251, 51), (6417, 51))"
     },
     "execution_count": 108,
     "metadata": {},
     "output_type": "execute_result"
    }
   ],
   "source": [
    "train.shape, test.shape"
   ],
   "metadata": {
    "collapsed": false,
    "pycharm": {
     "name": "#%%\n"
    }
   }
  },
  {
   "cell_type": "code",
   "execution_count": 84,
   "outputs": [],
   "source": [
    "pipe = Pipeline([\n",
    "    ('column_dropper1', ColumnDropper(columns_drop)),\n",
    "    ('cleaner', CustomCleaner()),\n",
    "    ('onehot_encoder', CustomOneHotEncoder(['oturucu', 'karobka', 'yeni'])),\n",
    "    ('categorical_averageprice', AverageCategoricalConverter(['marka', 'yanacaq', 'ban_novu', 'reng', 'model'])),\n",
    "    ('column_dropper2', ColumnDropper(['qiymet', 'qiymet_azn', 'qiymet_valyuta', 'il'])),\n",
    "    ('polynomial_features', PolynomialFeaturesGenerator(None)),\n",
    "    ('scaler', RobustScaler(quantile_range=[0.1, 0.9])),\n",
    "    ('estimator', RandomForestRegressor())\n",
    "])"
   ],
   "metadata": {
    "collapsed": false,
    "pycharm": {
     "name": "#%%\n"
    }
   }
  },
  {
   "cell_type": "code",
   "execution_count": 85,
   "outputs": [],
   "source": [
    "y_train = np.log(train[target])\n",
    "y_test = np.log(test[target])"
   ],
   "metadata": {
    "collapsed": false,
    "pycharm": {
     "name": "#%%\n"
    }
   }
  },
  {
   "cell_type": "code",
   "execution_count": 87,
   "outputs": [
    {
     "name": "stdout",
     "output_type": "stream",
     "text": [
      "object\n"
     ]
    },
    {
     "data": {
      "text/plain": "Pipeline(steps=[('column_dropper1',\n                 <__main__.ColumnDropper object at 0x0000023837E9E7D0>),\n                ('cleaner', CustomCleaner()),\n                ('onehot_encoder',\n                 CustomOneHotEncoder(feature_names=['oturucu', 'karobka',\n                                                    'yeni'])),\n                ('categorical_averageprice',\n                 AverageCategoricalConverter(feature_names=['marka', 'yanacaq',\n                                                            'ban_novu', 'reng',\n                                                            'model'])),\n                ('column_dropper2',\n                 <__main__.Colum...\n       'muherrik_guc', 'yurush', 'disk', 'abs', 'lyuk', 'yagish', 'qapanma',\n       'radar', 'kondisioner', 'podoqrev', 'deri', 'ksenon', 'kamera', 'perde',\n       'ventilyasiya', 'car_age', 'oturucu_Tam', 'oturucu_Ön',\n       'karobka_Mexaniki', 'yeni_Xeyr', 'marka_avg', 'yanacaq_avg',\n       'ban_novu_avg', 'reng_avg', 'model_avg'],\n      dtype='object'))),\n                ('scaler', RobustScaler(quantile_range=[0.1, 0.9])),\n                ('estimator', RandomForestRegressor())])",
      "text/html": "<style>#sk-container-id-1 {color: black;background-color: white;}#sk-container-id-1 pre{padding: 0;}#sk-container-id-1 div.sk-toggleable {background-color: white;}#sk-container-id-1 label.sk-toggleable__label {cursor: pointer;display: block;width: 100%;margin-bottom: 0;padding: 0.3em;box-sizing: border-box;text-align: center;}#sk-container-id-1 label.sk-toggleable__label-arrow:before {content: \"▸\";float: left;margin-right: 0.25em;color: #696969;}#sk-container-id-1 label.sk-toggleable__label-arrow:hover:before {color: black;}#sk-container-id-1 div.sk-estimator:hover label.sk-toggleable__label-arrow:before {color: black;}#sk-container-id-1 div.sk-toggleable__content {max-height: 0;max-width: 0;overflow: hidden;text-align: left;background-color: #f0f8ff;}#sk-container-id-1 div.sk-toggleable__content pre {margin: 0.2em;color: black;border-radius: 0.25em;background-color: #f0f8ff;}#sk-container-id-1 input.sk-toggleable__control:checked~div.sk-toggleable__content {max-height: 200px;max-width: 100%;overflow: auto;}#sk-container-id-1 input.sk-toggleable__control:checked~label.sk-toggleable__label-arrow:before {content: \"▾\";}#sk-container-id-1 div.sk-estimator input.sk-toggleable__control:checked~label.sk-toggleable__label {background-color: #d4ebff;}#sk-container-id-1 div.sk-label input.sk-toggleable__control:checked~label.sk-toggleable__label {background-color: #d4ebff;}#sk-container-id-1 input.sk-hidden--visually {border: 0;clip: rect(1px 1px 1px 1px);clip: rect(1px, 1px, 1px, 1px);height: 1px;margin: -1px;overflow: hidden;padding: 0;position: absolute;width: 1px;}#sk-container-id-1 div.sk-estimator {font-family: monospace;background-color: #f0f8ff;border: 1px dotted black;border-radius: 0.25em;box-sizing: border-box;margin-bottom: 0.5em;}#sk-container-id-1 div.sk-estimator:hover {background-color: #d4ebff;}#sk-container-id-1 div.sk-parallel-item::after {content: \"\";width: 100%;border-bottom: 1px solid gray;flex-grow: 1;}#sk-container-id-1 div.sk-label:hover label.sk-toggleable__label {background-color: #d4ebff;}#sk-container-id-1 div.sk-serial::before {content: \"\";position: absolute;border-left: 1px solid gray;box-sizing: border-box;top: 0;bottom: 0;left: 50%;z-index: 0;}#sk-container-id-1 div.sk-serial {display: flex;flex-direction: column;align-items: center;background-color: white;padding-right: 0.2em;padding-left: 0.2em;position: relative;}#sk-container-id-1 div.sk-item {position: relative;z-index: 1;}#sk-container-id-1 div.sk-parallel {display: flex;align-items: stretch;justify-content: center;background-color: white;position: relative;}#sk-container-id-1 div.sk-item::before, #sk-container-id-1 div.sk-parallel-item::before {content: \"\";position: absolute;border-left: 1px solid gray;box-sizing: border-box;top: 0;bottom: 0;left: 50%;z-index: -1;}#sk-container-id-1 div.sk-parallel-item {display: flex;flex-direction: column;z-index: 1;position: relative;background-color: white;}#sk-container-id-1 div.sk-parallel-item:first-child::after {align-self: flex-end;width: 50%;}#sk-container-id-1 div.sk-parallel-item:last-child::after {align-self: flex-start;width: 50%;}#sk-container-id-1 div.sk-parallel-item:only-child::after {width: 0;}#sk-container-id-1 div.sk-dashed-wrapped {border: 1px dashed gray;margin: 0 0.4em 0.5em 0.4em;box-sizing: border-box;padding-bottom: 0.4em;background-color: white;}#sk-container-id-1 div.sk-label label {font-family: monospace;font-weight: bold;display: inline-block;line-height: 1.2em;}#sk-container-id-1 div.sk-label-container {text-align: center;}#sk-container-id-1 div.sk-container {/* jupyter's `normalize.less` sets `[hidden] { display: none; }` but bootstrap.min.css set `[hidden] { display: none !important; }` so we also need the `!important` here to be able to override the default hidden behavior on the sphinx rendered scikit-learn.org. See: https://github.com/scikit-learn/scikit-learn/issues/21755 */display: inline-block !important;position: relative;}#sk-container-id-1 div.sk-text-repr-fallback {display: none;}</style><div id=\"sk-container-id-1\" class=\"sk-top-container\"><div class=\"sk-text-repr-fallback\"><pre>Pipeline(steps=[(&#x27;column_dropper1&#x27;,\n                 &lt;__main__.ColumnDropper object at 0x0000023837E9E7D0&gt;),\n                (&#x27;cleaner&#x27;, CustomCleaner()),\n                (&#x27;onehot_encoder&#x27;,\n                 CustomOneHotEncoder(feature_names=[&#x27;oturucu&#x27;, &#x27;karobka&#x27;,\n                                                    &#x27;yeni&#x27;])),\n                (&#x27;categorical_averageprice&#x27;,\n                 AverageCategoricalConverter(feature_names=[&#x27;marka&#x27;, &#x27;yanacaq&#x27;,\n                                                            &#x27;ban_novu&#x27;, &#x27;reng&#x27;,\n                                                            &#x27;model&#x27;])),\n                (&#x27;column_dropper2&#x27;,\n                 &lt;__main__.Colum...\n       &#x27;muherrik_guc&#x27;, &#x27;yurush&#x27;, &#x27;disk&#x27;, &#x27;abs&#x27;, &#x27;lyuk&#x27;, &#x27;yagish&#x27;, &#x27;qapanma&#x27;,\n       &#x27;radar&#x27;, &#x27;kondisioner&#x27;, &#x27;podoqrev&#x27;, &#x27;deri&#x27;, &#x27;ksenon&#x27;, &#x27;kamera&#x27;, &#x27;perde&#x27;,\n       &#x27;ventilyasiya&#x27;, &#x27;car_age&#x27;, &#x27;oturucu_Tam&#x27;, &#x27;oturucu_Ön&#x27;,\n       &#x27;karobka_Mexaniki&#x27;, &#x27;yeni_Xeyr&#x27;, &#x27;marka_avg&#x27;, &#x27;yanacaq_avg&#x27;,\n       &#x27;ban_novu_avg&#x27;, &#x27;reng_avg&#x27;, &#x27;model_avg&#x27;],\n      dtype=&#x27;object&#x27;))),\n                (&#x27;scaler&#x27;, RobustScaler(quantile_range=[0.1, 0.9])),\n                (&#x27;estimator&#x27;, RandomForestRegressor())])</pre><b>In a Jupyter environment, please rerun this cell to show the HTML representation or trust the notebook. <br />On GitHub, the HTML representation is unable to render, please try loading this page with nbviewer.org.</b></div><div class=\"sk-container\" hidden><div class=\"sk-item sk-dashed-wrapped\"><div class=\"sk-label-container\"><div class=\"sk-label sk-toggleable\"><input class=\"sk-toggleable__control sk-hidden--visually\" id=\"sk-estimator-id-1\" type=\"checkbox\" ><label for=\"sk-estimator-id-1\" class=\"sk-toggleable__label sk-toggleable__label-arrow\">Pipeline</label><div class=\"sk-toggleable__content\"><pre>Pipeline(steps=[(&#x27;column_dropper1&#x27;,\n                 &lt;__main__.ColumnDropper object at 0x0000023837E9E7D0&gt;),\n                (&#x27;cleaner&#x27;, CustomCleaner()),\n                (&#x27;onehot_encoder&#x27;,\n                 CustomOneHotEncoder(feature_names=[&#x27;oturucu&#x27;, &#x27;karobka&#x27;,\n                                                    &#x27;yeni&#x27;])),\n                (&#x27;categorical_averageprice&#x27;,\n                 AverageCategoricalConverter(feature_names=[&#x27;marka&#x27;, &#x27;yanacaq&#x27;,\n                                                            &#x27;ban_novu&#x27;, &#x27;reng&#x27;,\n                                                            &#x27;model&#x27;])),\n                (&#x27;column_dropper2&#x27;,\n                 &lt;__main__.Colum...\n       &#x27;muherrik_guc&#x27;, &#x27;yurush&#x27;, &#x27;disk&#x27;, &#x27;abs&#x27;, &#x27;lyuk&#x27;, &#x27;yagish&#x27;, &#x27;qapanma&#x27;,\n       &#x27;radar&#x27;, &#x27;kondisioner&#x27;, &#x27;podoqrev&#x27;, &#x27;deri&#x27;, &#x27;ksenon&#x27;, &#x27;kamera&#x27;, &#x27;perde&#x27;,\n       &#x27;ventilyasiya&#x27;, &#x27;car_age&#x27;, &#x27;oturucu_Tam&#x27;, &#x27;oturucu_Ön&#x27;,\n       &#x27;karobka_Mexaniki&#x27;, &#x27;yeni_Xeyr&#x27;, &#x27;marka_avg&#x27;, &#x27;yanacaq_avg&#x27;,\n       &#x27;ban_novu_avg&#x27;, &#x27;reng_avg&#x27;, &#x27;model_avg&#x27;],\n      dtype=&#x27;object&#x27;))),\n                (&#x27;scaler&#x27;, RobustScaler(quantile_range=[0.1, 0.9])),\n                (&#x27;estimator&#x27;, RandomForestRegressor())])</pre></div></div></div><div class=\"sk-serial\"><div class=\"sk-item\"><div class=\"sk-estimator sk-toggleable\"><input class=\"sk-toggleable__control sk-hidden--visually\" id=\"sk-estimator-id-2\" type=\"checkbox\" ><label for=\"sk-estimator-id-2\" class=\"sk-toggleable__label sk-toggleable__label-arrow\">ColumnDropper</label><div class=\"sk-toggleable__content\"><pre>&lt;__main__.ColumnDropper object at 0x0000023837E9E7D0&gt;</pre></div></div></div><div class=\"sk-item\"><div class=\"sk-estimator sk-toggleable\"><input class=\"sk-toggleable__control sk-hidden--visually\" id=\"sk-estimator-id-3\" type=\"checkbox\" ><label for=\"sk-estimator-id-3\" class=\"sk-toggleable__label sk-toggleable__label-arrow\">CustomCleaner</label><div class=\"sk-toggleable__content\"><pre>CustomCleaner()</pre></div></div></div><div class=\"sk-item\"><div class=\"sk-estimator sk-toggleable\"><input class=\"sk-toggleable__control sk-hidden--visually\" id=\"sk-estimator-id-4\" type=\"checkbox\" ><label for=\"sk-estimator-id-4\" class=\"sk-toggleable__label sk-toggleable__label-arrow\">CustomOneHotEncoder</label><div class=\"sk-toggleable__content\"><pre>CustomOneHotEncoder(feature_names=[&#x27;oturucu&#x27;, &#x27;karobka&#x27;, &#x27;yeni&#x27;])</pre></div></div></div><div class=\"sk-item\"><div class=\"sk-estimator sk-toggleable\"><input class=\"sk-toggleable__control sk-hidden--visually\" id=\"sk-estimator-id-5\" type=\"checkbox\" ><label for=\"sk-estimator-id-5\" class=\"sk-toggleable__label sk-toggleable__label-arrow\">AverageCategoricalConverter</label><div class=\"sk-toggleable__content\"><pre>AverageCategoricalConverter(feature_names=[&#x27;marka&#x27;, &#x27;yanacaq&#x27;, &#x27;ban_novu&#x27;,\n                                           &#x27;reng&#x27;, &#x27;model&#x27;])</pre></div></div></div><div class=\"sk-item\"><div class=\"sk-estimator sk-toggleable\"><input class=\"sk-toggleable__control sk-hidden--visually\" id=\"sk-estimator-id-6\" type=\"checkbox\" ><label for=\"sk-estimator-id-6\" class=\"sk-toggleable__label sk-toggleable__label-arrow\">ColumnDropper</label><div class=\"sk-toggleable__content\"><pre>&lt;__main__.ColumnDropper object at 0x0000023837E9EAD0&gt;</pre></div></div></div><div class=\"sk-item\"><div class=\"sk-estimator sk-toggleable\"><input class=\"sk-toggleable__control sk-hidden--visually\" id=\"sk-estimator-id-7\" type=\"checkbox\" ><label for=\"sk-estimator-id-7\" class=\"sk-toggleable__label sk-toggleable__label-arrow\">PolynomialFeaturesGenerator</label><div class=\"sk-toggleable__content\"><pre>PolynomialFeaturesGenerator(pol_features=Index([&#x27;Unnamed: 0&#x27;, &#x27;salon_yn&#x27;, &#x27;shekil_sayi&#x27;, &#x27;tel_say&#x27;, &#x27;muherrik_hecm&#x27;,\n       &#x27;muherrik_guc&#x27;, &#x27;yurush&#x27;, &#x27;disk&#x27;, &#x27;abs&#x27;, &#x27;lyuk&#x27;, &#x27;yagish&#x27;, &#x27;qapanma&#x27;,\n       &#x27;radar&#x27;, &#x27;kondisioner&#x27;, &#x27;podoqrev&#x27;, &#x27;deri&#x27;, &#x27;ksenon&#x27;, &#x27;kamera&#x27;, &#x27;perde&#x27;,\n       &#x27;ventilyasiya&#x27;, &#x27;car_age&#x27;, &#x27;oturucu_Tam&#x27;, &#x27;oturucu_Ön&#x27;,\n       &#x27;karobka_Mexaniki&#x27;, &#x27;yeni_Xeyr&#x27;, &#x27;marka_avg&#x27;, &#x27;yanacaq_avg&#x27;,\n       &#x27;ban_novu_avg&#x27;, &#x27;reng_avg&#x27;, &#x27;model_avg&#x27;],\n      dtype=&#x27;object&#x27;))</pre></div></div></div><div class=\"sk-item\"><div class=\"sk-estimator sk-toggleable\"><input class=\"sk-toggleable__control sk-hidden--visually\" id=\"sk-estimator-id-8\" type=\"checkbox\" ><label for=\"sk-estimator-id-8\" class=\"sk-toggleable__label sk-toggleable__label-arrow\">RobustScaler</label><div class=\"sk-toggleable__content\"><pre>RobustScaler(quantile_range=[0.1, 0.9])</pre></div></div></div><div class=\"sk-item\"><div class=\"sk-estimator sk-toggleable\"><input class=\"sk-toggleable__control sk-hidden--visually\" id=\"sk-estimator-id-9\" type=\"checkbox\" ><label for=\"sk-estimator-id-9\" class=\"sk-toggleable__label sk-toggleable__label-arrow\">RandomForestRegressor</label><div class=\"sk-toggleable__content\"><pre>RandomForestRegressor()</pre></div></div></div></div></div></div></div>"
     },
     "execution_count": 87,
     "metadata": {},
     "output_type": "execute_result"
    }
   ],
   "source": [
    "pipe.fit(train, y_train)"
   ],
   "metadata": {
    "collapsed": false,
    "pycharm": {
     "name": "#%%\n"
    }
   }
  },
  {
   "cell_type": "code",
   "execution_count": 88,
   "outputs": [
    {
     "name": "stdout",
     "output_type": "stream",
     "text": [
      "object\n",
      "object\n"
     ]
    }
   ],
   "source": [
    "y_pred_train = pipe.predict(train)\n",
    "y_pred_test = pipe.predict(test)"
   ],
   "metadata": {
    "collapsed": false,
    "pycharm": {
     "name": "#%%\n"
    }
   }
  },
  {
   "cell_type": "code",
   "execution_count": 89,
   "outputs": [
    {
     "name": "stdout",
     "output_type": "stream",
     "text": [
      "train mean error: 939.4326283565636 , train median error: 307.9590054627042\n"
     ]
    }
   ],
   "source": [
    "print(\"train mean error:\", met.mean_absolute_error(train[target], np.exp(y_pred_train)),\n",
    "      \", train median error:\", met.median_absolute_error(train[target], np.exp(y_pred_train)))"
   ],
   "metadata": {
    "collapsed": false,
    "pycharm": {
     "name": "#%%\n"
    }
   }
  },
  {
   "cell_type": "code",
   "execution_count": 90,
   "outputs": [
    {
     "name": "stdout",
     "output_type": "stream",
     "text": [
      "test mean error: 2772.5140894872993 , test median error: 942.0215420954428\n"
     ]
    }
   ],
   "source": [
    "print(\"test mean error:\", met.mean_absolute_error(test[target], np.exp(y_pred_test)),\n",
    "      \", test median error:\", met.median_absolute_error(test[target], np.exp(y_pred_test)))"
   ],
   "metadata": {
    "collapsed": false,
    "pycharm": {
     "name": "#%%\n"
    }
   }
  }
 ],
 "metadata": {
  "kernelspec": {
   "display_name": "Python 3",
   "language": "python",
   "name": "python3"
  },
  "language_info": {
   "codemirror_mode": {
    "name": "ipython",
    "version": 2
   },
   "file_extension": ".py",
   "mimetype": "text/x-python",
   "name": "python",
   "nbconvert_exporter": "python",
   "pygments_lexer": "ipython2",
   "version": "2.7.6"
  }
 },
 "nbformat": 4,
 "nbformat_minor": 0
}